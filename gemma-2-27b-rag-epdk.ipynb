{
 "cells": [
  {
   "cell_type": "code",
   "execution_count": 1,
   "metadata": {},
   "outputs": [],
   "source": [
    "%%capture\n",
    "%pip install -U transformers\n",
    "%pip install -U bitsandbytes\n",
    "%pip install -U accelerate\n",
    "%pip install -U pdfplumber"
   ]
  },
  {
   "cell_type": "code",
   "execution_count": null,
   "metadata": {},
   "outputs": [],
   "source": [
    "import pdfplumber\n",
    "import torch\n",
    "from transformers import AutoTokenizer, AutoModelForCausalLM"
   ]
  },
  {
   "cell_type": "code",
   "execution_count": null,
   "metadata": {},
   "outputs": [],
   "source": [
    "model_name=base_model\n",
    "\n",
    "tokenizer=AutoTokenizer.from_pretrained(model_name)\n",
    "model=AutoModelForCausalLM.from_pretrained(model_name)"
   ]
  },
  {
   "cell_type": "code",
   "execution_count": null,
   "metadata": {},
   "outputs": [],
   "source": [
    "from os import pidfd_open\n",
    "def exrtract_texT_from_pdf(pdf_path):\n",
    "    text=\"\"\n",
    "    with pdfplumber.open(pdf_path) as pdf:\n",
    "        for page in pdf.pages:\n",
    "            text+=page.extract_text() + \"\\n\"\n",
    "    return text\n",
    "\n",
    "pdf_path=\"enerji_donusumu_sss.pdf\"\n",
    "pdf_text=exrtract_texT_from_pdf(pdf_path)"
   ]
  },
  {
   "cell_type": "code",
   "execution_count": null,
   "metadata": {},
   "outputs": [],
   "source": [
    "def generate_response(query, context):\n",
    "  input_text=f\"Context: {context}\\nQuery:{query}\"\n",
    "  inputs=tokenizer(input_text, return_tensors=\"pt\")\n",
    "\n",
    "  with torch.no_grad():\n",
    "    outputs=model.generate(**inputs, max_length=200)\n",
    "\n",
    "  generated_text=tokenizer.decode(outputs[0], skip_special_tokens=True)\n",
    "  return generated_text"
   ]
  },
  {
   "cell_type": "code",
   "execution_count": null,
   "metadata": {},
   "outputs": [],
   "source": [
    "user_query = \"Bu doküman neden bahsediyor?\" \n",
    "response = generate_response(user_query, pdf_text)\n",
    "print(response)"
   ]
  }
 ],
 "metadata": {
  "kernelspec": {
   "display_name": "Python 3",
   "language": "python",
   "name": "python3"
  },
  "language_info": {
   "codemirror_mode": {
    "name": "ipython",
    "version": 3
   },
   "file_extension": ".py",
   "mimetype": "text/x-python",
   "name": "python",
   "nbconvert_exporter": "python",
   "pygments_lexer": "ipython3",
   "version": "3.13.0"
  }
 },
 "nbformat": 4,
 "nbformat_minor": 2
}
